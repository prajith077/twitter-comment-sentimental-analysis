{
 "cells": [
  {
   "cell_type": "markdown",
   "id": "0ff53670-7dc4-40ec-84b1-d0bf455b0159",
   "metadata": {},
   "source": [
    "<h1 style=\"background-color:white; color:black; padding:10px; text-align:center; font-size:40px; font-family:'Arial', sans-serif; font-weight:bold;\"> ML PROJECT</h1>\n"
   ]
  },
  {
   "cell_type": "code",
   "execution_count": 1,
   "id": "2310f1da-72ab-4440-80c9-de3ba00293b8",
   "metadata": {},
   "outputs": [],
   "source": [
    "# import pandas as pd\n",
    "import numpy as np\n",
    "import pandas as pd\n",
    "from sklearn.model_selection import train_test_split\n",
    "from sklearn.feature_extraction.text import CountVectorizer\n",
    "\n",
    "data=pd.read_csv('COMMENTSS.csv')\n",
    "\n",
    "# Separate features and labels\n",
    "X = data['text']\n",
    "y = data['label']\n",
    "\n",
    "# Preprocess text data using Count Vectorizer\n",
    "vectorizer = CountVectorizer(stop_words='english', max_features=5000)\n",
    "X_count = vectorizer.fit_transform(X)\n",
    "\n",
    "# Split the data into training and testing sets\n",
    "X_train_count, X_test_count, y_train, y_test = train_test_split(X_count, y, test_size=0.2, random_state=42)\n",
    "\n",
    "# 1. stop_words='english':\n",
    "\n",
    "# Removes common English words (like \"and\", \"the\", \"is\") that are unlikely to carry significant meaning.\n",
    "\n",
    "# 2. max_features=5000:\n",
    "\n",
    "# Limits the size of the vocabulary to the 5,000 most frequently occurring words in the dataset.\n",
    "\n",
    "# Helps reduce dimensionality and focus on the most important terms."
   ]
  },
  {
   "cell_type": "markdown",
   "id": "31b52e11-e155-440b-9b5a-00ada959a3fc",
   "metadata": {},
   "source": [
    "<h1 style=\"background-color:white;color:black;padding:10px;\">RANDOM FOREST</h1>"
   ]
  },
  {
   "cell_type": "code",
   "execution_count": 2,
   "id": "31ded28f-226d-464e-b837-5c8d7fb5487b",
   "metadata": {},
   "outputs": [
    {
     "name": "stdout",
     "output_type": "stream",
     "text": [
      "RandomForest\n",
      "Accuracy: 88.29%\n",
      "Precision: 0.89\n",
      "Recall: 0.88\n",
      "F1-Score: 0.88\n"
     ]
    }
   ],
   "source": [
    "from sklearn.metrics import precision_score, recall_score, f1_score\n",
    "from sklearn.ensemble import RandomForestClassifier\n",
    "from sklearn.metrics import classification_report, accuracy_score\n",
    "# Fit the RandomForest model\n",
    "randomforest_model = RandomForestClassifier(random_state=42)\n",
    "randomforest_model.fit(X_train_count, y_train)\n",
    "\n",
    "# Predict on the test set\n",
    "y_pred_count = randomforest_model.predict(X_test_count)\n",
    "\n",
    "# Calculate metrics\n",
    "accuracy_count = accuracy_score(y_test, y_pred_count)\n",
    "precision_count = precision_score(y_test, y_pred_count, average='weighted')  # Adjust 'average' as needed\n",
    "recall_count = recall_score(y_test, y_pred_count, average='weighted')\n",
    "f1_count = f1_score(y_test, y_pred_count, average='weighted')\n",
    "\n",
    "# Generate classification report\n",
    "report_count = classification_report(y_test, y_pred_count)\n",
    "\n",
    "# Print results\n",
    "print(\"RandomForest\")\n",
    "print(f\"Accuracy: {accuracy_count * 100:.2f}%\")\n",
    "print(f\"Precision: {precision_count:.2f}\")\n",
    "print(f\"Recall: {recall_count:.2f}\")\n",
    "print(f\"F1-Score: {f1_count:.2f}\")\n",
    "# print(\"Classification Report:\")\n",
    "# print(report_count)\n"
   ]
  },
  {
   "cell_type": "markdown",
   "id": "050cc796-446f-4cc3-9b48-829da45ddbc9",
   "metadata": {},
   "source": [
    "<h1 style=\"background-color:white;color:black;padding:10px;\">LOGISTIC REGRESSION</h1>"
   ]
  },
  {
   "cell_type": "code",
   "execution_count": 5,
   "id": "a00abb80-cb48-4580-abf0-120f3163cba7",
   "metadata": {},
   "outputs": [
    {
     "data": {
      "text/html": [
       "<style>#sk-container-id-1 {\n",
       "  /* Definition of color scheme common for light and dark mode */\n",
       "  --sklearn-color-text: black;\n",
       "  --sklearn-color-line: gray;\n",
       "  /* Definition of color scheme for unfitted estimators */\n",
       "  --sklearn-color-unfitted-level-0: #fff5e6;\n",
       "  --sklearn-color-unfitted-level-1: #f6e4d2;\n",
       "  --sklearn-color-unfitted-level-2: #ffe0b3;\n",
       "  --sklearn-color-unfitted-level-3: chocolate;\n",
       "  /* Definition of color scheme for fitted estimators */\n",
       "  --sklearn-color-fitted-level-0: #f0f8ff;\n",
       "  --sklearn-color-fitted-level-1: #d4ebff;\n",
       "  --sklearn-color-fitted-level-2: #b3dbfd;\n",
       "  --sklearn-color-fitted-level-3: cornflowerblue;\n",
       "\n",
       "  /* Specific color for light theme */\n",
       "  --sklearn-color-text-on-default-background: var(--sg-text-color, var(--theme-code-foreground, var(--jp-content-font-color1, black)));\n",
       "  --sklearn-color-background: var(--sg-background-color, var(--theme-background, var(--jp-layout-color0, white)));\n",
       "  --sklearn-color-border-box: var(--sg-text-color, var(--theme-code-foreground, var(--jp-content-font-color1, black)));\n",
       "  --sklearn-color-icon: #696969;\n",
       "\n",
       "  @media (prefers-color-scheme: dark) {\n",
       "    /* Redefinition of color scheme for dark theme */\n",
       "    --sklearn-color-text-on-default-background: var(--sg-text-color, var(--theme-code-foreground, var(--jp-content-font-color1, white)));\n",
       "    --sklearn-color-background: var(--sg-background-color, var(--theme-background, var(--jp-layout-color0, #111)));\n",
       "    --sklearn-color-border-box: var(--sg-text-color, var(--theme-code-foreground, var(--jp-content-font-color1, white)));\n",
       "    --sklearn-color-icon: #878787;\n",
       "  }\n",
       "}\n",
       "\n",
       "#sk-container-id-1 {\n",
       "  color: var(--sklearn-color-text);\n",
       "}\n",
       "\n",
       "#sk-container-id-1 pre {\n",
       "  padding: 0;\n",
       "}\n",
       "\n",
       "#sk-container-id-1 input.sk-hidden--visually {\n",
       "  border: 0;\n",
       "  clip: rect(1px 1px 1px 1px);\n",
       "  clip: rect(1px, 1px, 1px, 1px);\n",
       "  height: 1px;\n",
       "  margin: -1px;\n",
       "  overflow: hidden;\n",
       "  padding: 0;\n",
       "  position: absolute;\n",
       "  width: 1px;\n",
       "}\n",
       "\n",
       "#sk-container-id-1 div.sk-dashed-wrapped {\n",
       "  border: 1px dashed var(--sklearn-color-line);\n",
       "  margin: 0 0.4em 0.5em 0.4em;\n",
       "  box-sizing: border-box;\n",
       "  padding-bottom: 0.4em;\n",
       "  background-color: var(--sklearn-color-background);\n",
       "}\n",
       "\n",
       "#sk-container-id-1 div.sk-container {\n",
       "  /* jupyter's `normalize.less` sets `[hidden] { display: none; }`\n",
       "     but bootstrap.min.css set `[hidden] { display: none !important; }`\n",
       "     so we also need the `!important` here to be able to override the\n",
       "     default hidden behavior on the sphinx rendered scikit-learn.org.\n",
       "     See: https://github.com/scikit-learn/scikit-learn/issues/21755 */\n",
       "  display: inline-block !important;\n",
       "  position: relative;\n",
       "}\n",
       "\n",
       "#sk-container-id-1 div.sk-text-repr-fallback {\n",
       "  display: none;\n",
       "}\n",
       "\n",
       "div.sk-parallel-item,\n",
       "div.sk-serial,\n",
       "div.sk-item {\n",
       "  /* draw centered vertical line to link estimators */\n",
       "  background-image: linear-gradient(var(--sklearn-color-text-on-default-background), var(--sklearn-color-text-on-default-background));\n",
       "  background-size: 2px 100%;\n",
       "  background-repeat: no-repeat;\n",
       "  background-position: center center;\n",
       "}\n",
       "\n",
       "/* Parallel-specific style estimator block */\n",
       "\n",
       "#sk-container-id-1 div.sk-parallel-item::after {\n",
       "  content: \"\";\n",
       "  width: 100%;\n",
       "  border-bottom: 2px solid var(--sklearn-color-text-on-default-background);\n",
       "  flex-grow: 1;\n",
       "}\n",
       "\n",
       "#sk-container-id-1 div.sk-parallel {\n",
       "  display: flex;\n",
       "  align-items: stretch;\n",
       "  justify-content: center;\n",
       "  background-color: var(--sklearn-color-background);\n",
       "  position: relative;\n",
       "}\n",
       "\n",
       "#sk-container-id-1 div.sk-parallel-item {\n",
       "  display: flex;\n",
       "  flex-direction: column;\n",
       "}\n",
       "\n",
       "#sk-container-id-1 div.sk-parallel-item:first-child::after {\n",
       "  align-self: flex-end;\n",
       "  width: 50%;\n",
       "}\n",
       "\n",
       "#sk-container-id-1 div.sk-parallel-item:last-child::after {\n",
       "  align-self: flex-start;\n",
       "  width: 50%;\n",
       "}\n",
       "\n",
       "#sk-container-id-1 div.sk-parallel-item:only-child::after {\n",
       "  width: 0;\n",
       "}\n",
       "\n",
       "/* Serial-specific style estimator block */\n",
       "\n",
       "#sk-container-id-1 div.sk-serial {\n",
       "  display: flex;\n",
       "  flex-direction: column;\n",
       "  align-items: center;\n",
       "  background-color: var(--sklearn-color-background);\n",
       "  padding-right: 1em;\n",
       "  padding-left: 1em;\n",
       "}\n",
       "\n",
       "\n",
       "/* Toggleable style: style used for estimator/Pipeline/ColumnTransformer box that is\n",
       "clickable and can be expanded/collapsed.\n",
       "- Pipeline and ColumnTransformer use this feature and define the default style\n",
       "- Estimators will overwrite some part of the style using the `sk-estimator` class\n",
       "*/\n",
       "\n",
       "/* Pipeline and ColumnTransformer style (default) */\n",
       "\n",
       "#sk-container-id-1 div.sk-toggleable {\n",
       "  /* Default theme specific background. It is overwritten whether we have a\n",
       "  specific estimator or a Pipeline/ColumnTransformer */\n",
       "  background-color: var(--sklearn-color-background);\n",
       "}\n",
       "\n",
       "/* Toggleable label */\n",
       "#sk-container-id-1 label.sk-toggleable__label {\n",
       "  cursor: pointer;\n",
       "  display: block;\n",
       "  width: 100%;\n",
       "  margin-bottom: 0;\n",
       "  padding: 0.5em;\n",
       "  box-sizing: border-box;\n",
       "  text-align: center;\n",
       "}\n",
       "\n",
       "#sk-container-id-1 label.sk-toggleable__label-arrow:before {\n",
       "  /* Arrow on the left of the label */\n",
       "  content: \"▸\";\n",
       "  float: left;\n",
       "  margin-right: 0.25em;\n",
       "  color: var(--sklearn-color-icon);\n",
       "}\n",
       "\n",
       "#sk-container-id-1 label.sk-toggleable__label-arrow:hover:before {\n",
       "  color: var(--sklearn-color-text);\n",
       "}\n",
       "\n",
       "/* Toggleable content - dropdown */\n",
       "\n",
       "#sk-container-id-1 div.sk-toggleable__content {\n",
       "  max-height: 0;\n",
       "  max-width: 0;\n",
       "  overflow: hidden;\n",
       "  text-align: left;\n",
       "  /* unfitted */\n",
       "  background-color: var(--sklearn-color-unfitted-level-0);\n",
       "}\n",
       "\n",
       "#sk-container-id-1 div.sk-toggleable__content.fitted {\n",
       "  /* fitted */\n",
       "  background-color: var(--sklearn-color-fitted-level-0);\n",
       "}\n",
       "\n",
       "#sk-container-id-1 div.sk-toggleable__content pre {\n",
       "  margin: 0.2em;\n",
       "  border-radius: 0.25em;\n",
       "  color: var(--sklearn-color-text);\n",
       "  /* unfitted */\n",
       "  background-color: var(--sklearn-color-unfitted-level-0);\n",
       "}\n",
       "\n",
       "#sk-container-id-1 div.sk-toggleable__content.fitted pre {\n",
       "  /* unfitted */\n",
       "  background-color: var(--sklearn-color-fitted-level-0);\n",
       "}\n",
       "\n",
       "#sk-container-id-1 input.sk-toggleable__control:checked~div.sk-toggleable__content {\n",
       "  /* Expand drop-down */\n",
       "  max-height: 200px;\n",
       "  max-width: 100%;\n",
       "  overflow: auto;\n",
       "}\n",
       "\n",
       "#sk-container-id-1 input.sk-toggleable__control:checked~label.sk-toggleable__label-arrow:before {\n",
       "  content: \"▾\";\n",
       "}\n",
       "\n",
       "/* Pipeline/ColumnTransformer-specific style */\n",
       "\n",
       "#sk-container-id-1 div.sk-label input.sk-toggleable__control:checked~label.sk-toggleable__label {\n",
       "  color: var(--sklearn-color-text);\n",
       "  background-color: var(--sklearn-color-unfitted-level-2);\n",
       "}\n",
       "\n",
       "#sk-container-id-1 div.sk-label.fitted input.sk-toggleable__control:checked~label.sk-toggleable__label {\n",
       "  background-color: var(--sklearn-color-fitted-level-2);\n",
       "}\n",
       "\n",
       "/* Estimator-specific style */\n",
       "\n",
       "/* Colorize estimator box */\n",
       "#sk-container-id-1 div.sk-estimator input.sk-toggleable__control:checked~label.sk-toggleable__label {\n",
       "  /* unfitted */\n",
       "  background-color: var(--sklearn-color-unfitted-level-2);\n",
       "}\n",
       "\n",
       "#sk-container-id-1 div.sk-estimator.fitted input.sk-toggleable__control:checked~label.sk-toggleable__label {\n",
       "  /* fitted */\n",
       "  background-color: var(--sklearn-color-fitted-level-2);\n",
       "}\n",
       "\n",
       "#sk-container-id-1 div.sk-label label.sk-toggleable__label,\n",
       "#sk-container-id-1 div.sk-label label {\n",
       "  /* The background is the default theme color */\n",
       "  color: var(--sklearn-color-text-on-default-background);\n",
       "}\n",
       "\n",
       "/* On hover, darken the color of the background */\n",
       "#sk-container-id-1 div.sk-label:hover label.sk-toggleable__label {\n",
       "  color: var(--sklearn-color-text);\n",
       "  background-color: var(--sklearn-color-unfitted-level-2);\n",
       "}\n",
       "\n",
       "/* Label box, darken color on hover, fitted */\n",
       "#sk-container-id-1 div.sk-label.fitted:hover label.sk-toggleable__label.fitted {\n",
       "  color: var(--sklearn-color-text);\n",
       "  background-color: var(--sklearn-color-fitted-level-2);\n",
       "}\n",
       "\n",
       "/* Estimator label */\n",
       "\n",
       "#sk-container-id-1 div.sk-label label {\n",
       "  font-family: monospace;\n",
       "  font-weight: bold;\n",
       "  display: inline-block;\n",
       "  line-height: 1.2em;\n",
       "}\n",
       "\n",
       "#sk-container-id-1 div.sk-label-container {\n",
       "  text-align: center;\n",
       "}\n",
       "\n",
       "/* Estimator-specific */\n",
       "#sk-container-id-1 div.sk-estimator {\n",
       "  font-family: monospace;\n",
       "  border: 1px dotted var(--sklearn-color-border-box);\n",
       "  border-radius: 0.25em;\n",
       "  box-sizing: border-box;\n",
       "  margin-bottom: 0.5em;\n",
       "  /* unfitted */\n",
       "  background-color: var(--sklearn-color-unfitted-level-0);\n",
       "}\n",
       "\n",
       "#sk-container-id-1 div.sk-estimator.fitted {\n",
       "  /* fitted */\n",
       "  background-color: var(--sklearn-color-fitted-level-0);\n",
       "}\n",
       "\n",
       "/* on hover */\n",
       "#sk-container-id-1 div.sk-estimator:hover {\n",
       "  /* unfitted */\n",
       "  background-color: var(--sklearn-color-unfitted-level-2);\n",
       "}\n",
       "\n",
       "#sk-container-id-1 div.sk-estimator.fitted:hover {\n",
       "  /* fitted */\n",
       "  background-color: var(--sklearn-color-fitted-level-2);\n",
       "}\n",
       "\n",
       "/* Specification for estimator info (e.g. \"i\" and \"?\") */\n",
       "\n",
       "/* Common style for \"i\" and \"?\" */\n",
       "\n",
       ".sk-estimator-doc-link,\n",
       "a:link.sk-estimator-doc-link,\n",
       "a:visited.sk-estimator-doc-link {\n",
       "  float: right;\n",
       "  font-size: smaller;\n",
       "  line-height: 1em;\n",
       "  font-family: monospace;\n",
       "  background-color: var(--sklearn-color-background);\n",
       "  border-radius: 1em;\n",
       "  height: 1em;\n",
       "  width: 1em;\n",
       "  text-decoration: none !important;\n",
       "  margin-left: 1ex;\n",
       "  /* unfitted */\n",
       "  border: var(--sklearn-color-unfitted-level-1) 1pt solid;\n",
       "  color: var(--sklearn-color-unfitted-level-1);\n",
       "}\n",
       "\n",
       ".sk-estimator-doc-link.fitted,\n",
       "a:link.sk-estimator-doc-link.fitted,\n",
       "a:visited.sk-estimator-doc-link.fitted {\n",
       "  /* fitted */\n",
       "  border: var(--sklearn-color-fitted-level-1) 1pt solid;\n",
       "  color: var(--sklearn-color-fitted-level-1);\n",
       "}\n",
       "\n",
       "/* On hover */\n",
       "div.sk-estimator:hover .sk-estimator-doc-link:hover,\n",
       ".sk-estimator-doc-link:hover,\n",
       "div.sk-label-container:hover .sk-estimator-doc-link:hover,\n",
       ".sk-estimator-doc-link:hover {\n",
       "  /* unfitted */\n",
       "  background-color: var(--sklearn-color-unfitted-level-3);\n",
       "  color: var(--sklearn-color-background);\n",
       "  text-decoration: none;\n",
       "}\n",
       "\n",
       "div.sk-estimator.fitted:hover .sk-estimator-doc-link.fitted:hover,\n",
       ".sk-estimator-doc-link.fitted:hover,\n",
       "div.sk-label-container:hover .sk-estimator-doc-link.fitted:hover,\n",
       ".sk-estimator-doc-link.fitted:hover {\n",
       "  /* fitted */\n",
       "  background-color: var(--sklearn-color-fitted-level-3);\n",
       "  color: var(--sklearn-color-background);\n",
       "  text-decoration: none;\n",
       "}\n",
       "\n",
       "/* Span, style for the box shown on hovering the info icon */\n",
       ".sk-estimator-doc-link span {\n",
       "  display: none;\n",
       "  z-index: 9999;\n",
       "  position: relative;\n",
       "  font-weight: normal;\n",
       "  right: .2ex;\n",
       "  padding: .5ex;\n",
       "  margin: .5ex;\n",
       "  width: min-content;\n",
       "  min-width: 20ex;\n",
       "  max-width: 50ex;\n",
       "  color: var(--sklearn-color-text);\n",
       "  box-shadow: 2pt 2pt 4pt #999;\n",
       "  /* unfitted */\n",
       "  background: var(--sklearn-color-unfitted-level-0);\n",
       "  border: .5pt solid var(--sklearn-color-unfitted-level-3);\n",
       "}\n",
       "\n",
       ".sk-estimator-doc-link.fitted span {\n",
       "  /* fitted */\n",
       "  background: var(--sklearn-color-fitted-level-0);\n",
       "  border: var(--sklearn-color-fitted-level-3);\n",
       "}\n",
       "\n",
       ".sk-estimator-doc-link:hover span {\n",
       "  display: block;\n",
       "}\n",
       "\n",
       "/* \"?\"-specific style due to the `<a>` HTML tag */\n",
       "\n",
       "#sk-container-id-1 a.estimator_doc_link {\n",
       "  float: right;\n",
       "  font-size: 1rem;\n",
       "  line-height: 1em;\n",
       "  font-family: monospace;\n",
       "  background-color: var(--sklearn-color-background);\n",
       "  border-radius: 1rem;\n",
       "  height: 1rem;\n",
       "  width: 1rem;\n",
       "  text-decoration: none;\n",
       "  /* unfitted */\n",
       "  color: var(--sklearn-color-unfitted-level-1);\n",
       "  border: var(--sklearn-color-unfitted-level-1) 1pt solid;\n",
       "}\n",
       "\n",
       "#sk-container-id-1 a.estimator_doc_link.fitted {\n",
       "  /* fitted */\n",
       "  border: var(--sklearn-color-fitted-level-1) 1pt solid;\n",
       "  color: var(--sklearn-color-fitted-level-1);\n",
       "}\n",
       "\n",
       "/* On hover */\n",
       "#sk-container-id-1 a.estimator_doc_link:hover {\n",
       "  /* unfitted */\n",
       "  background-color: var(--sklearn-color-unfitted-level-3);\n",
       "  color: var(--sklearn-color-background);\n",
       "  text-decoration: none;\n",
       "}\n",
       "\n",
       "#sk-container-id-1 a.estimator_doc_link.fitted:hover {\n",
       "  /* fitted */\n",
       "  background-color: var(--sklearn-color-fitted-level-3);\n",
       "}\n",
       "</style><div id=\"sk-container-id-1\" class=\"sk-top-container\"><div class=\"sk-text-repr-fallback\"><pre>LogisticRegression()</pre><b>In a Jupyter environment, please rerun this cell to show the HTML representation or trust the notebook. <br />On GitHub, the HTML representation is unable to render, please try loading this page with nbviewer.org.</b></div><div class=\"sk-container\" hidden><div class=\"sk-item\"><div class=\"sk-estimator fitted sk-toggleable\"><input class=\"sk-toggleable__control sk-hidden--visually\" id=\"sk-estimator-id-1\" type=\"checkbox\" checked><label for=\"sk-estimator-id-1\" class=\"sk-toggleable__label fitted sk-toggleable__label-arrow fitted\">&nbsp;&nbsp;LogisticRegression<a class=\"sk-estimator-doc-link fitted\" rel=\"noreferrer\" target=\"_blank\" href=\"https://scikit-learn.org/1.4/modules/generated/sklearn.linear_model.LogisticRegression.html\">?<span>Documentation for LogisticRegression</span></a><span class=\"sk-estimator-doc-link fitted\">i<span>Fitted</span></span></label><div class=\"sk-toggleable__content fitted\"><pre>LogisticRegression()</pre></div> </div></div></div></div>"
      ],
      "text/plain": [
       "LogisticRegression()"
      ]
     },
     "execution_count": 5,
     "metadata": {},
     "output_type": "execute_result"
    }
   ],
   "source": [
    "from sklearn.metrics import classification_report, accuracy_score\n",
    "from sklearn.linear_model import LogisticRegression\n",
    "model=LogisticRegression()\n",
    "model.fit(X_train_count, y_train)"
   ]
  },
  {
   "cell_type": "code",
   "execution_count": 7,
   "id": "f9c8253f-8f87-4b67-95da-f86b9aa2c38f",
   "metadata": {},
   "outputs": [],
   "source": [
    "y_pred=model.predict(X_test_count)"
   ]
  },
  {
   "cell_type": "code",
   "execution_count": 9,
   "id": "1eaa32f3-f58e-41c7-ad86-8f0c748b2de3",
   "metadata": {},
   "outputs": [
    {
     "name": "stdout",
     "output_type": "stream",
     "text": [
      "LogisticRegression\n",
      "Accuracy: 89.37%\n",
      "Precision: 0.89\n",
      "Recall: 0.89\n",
      "F1-Score: 0.89\n"
     ]
    }
   ],
   "source": [
    "from sklearn.metrics import accuracy_score, precision_score, recall_score, f1_score, classification_report\n",
    "\n",
    "# Calculate metrics\n",
    "accuracy = accuracy_score(y_test, y_pred)\n",
    "precision = precision_score(y_test, y_pred, average='weighted')  # Adjust 'average' as needed\n",
    "recall = recall_score(y_test, y_pred, average='weighted')\n",
    "f1 = f1_score(y_test, y_pred, average='weighted')\n",
    "\n",
    "# Classification report\n",
    "class_report = classification_report(y_test, y_pred)\n",
    "\n",
    "# Print results\n",
    "print(\"LogisticRegression\")\n",
    "print(f\"Accuracy: {accuracy * 100:.2f}%\")\n",
    "print(f\"Precision: {precision:.2f}\")\n",
    "print(f\"Recall: {recall:.2f}\")\n",
    "print(f\"F1-Score: {f1:.2f}\")\n",
    "# print(\"Classification Report:\")\n",
    "# print(class_report)\n",
    "\n"
   ]
  },
  {
   "cell_type": "markdown",
   "id": "6a8a8233-300d-41e0-aae6-2ceffb9a59a9",
   "metadata": {},
   "source": [
    "<h1 style=\"background-color:white;color:black;padding:10px;\">DECISION TREE</h1>"
   ]
  },
  {
   "cell_type": "code",
   "execution_count": 11,
   "id": "207b6251-8de8-414a-b225-db08ced98992",
   "metadata": {},
   "outputs": [
    {
     "name": "stdout",
     "output_type": "stream",
     "text": [
      "Decision Tree\n",
      "Accuracy: 85.56%\n",
      "Precision: 0.86\n",
      "Recall: 0.86\n",
      "F1-Score: 0.86\n"
     ]
    }
   ],
   "source": [
    "from sklearn.tree import DecisionTreeClassifier\n",
    "from sklearn.metrics import accuracy_score, precision_score, recall_score, f1_score, classification_report\n",
    "\n",
    "# Decision Tree\n",
    "decision_tree_model = DecisionTreeClassifier(random_state=42)\n",
    "decision_tree_model.fit(X_train_count, y_train)\n",
    "\n",
    "# Predict\n",
    "y_pred_dt = decision_tree_model.predict(X_test_count)\n",
    "\n",
    "# Evaluate\n",
    "accuracy_dt = accuracy_score(y_test, y_pred_dt)\n",
    "precision_dt = precision_score(y_test, y_pred_dt, average='weighted')  # Adjust 'average' as needed\n",
    "recall_dt = recall_score(y_test, y_pred_dt, average='weighted')\n",
    "f1_dt = f1_score(y_test, y_pred_dt, average='weighted')\n",
    "report_dt = classification_report(y_test, y_pred_dt)\n",
    "\n",
    "# Print results\n",
    "print(\"Decision Tree\")\n",
    "print(f\"Accuracy: {accuracy_dt * 100:.2f}%\")\n",
    "print(f\"Precision: {precision_dt:.2f}\")\n",
    "print(f\"Recall: {recall_dt:.2f}\")\n",
    "print(f\"F1-Score: {f1_dt:.2f}\")\n",
    "# print(\"Classification Report:\")\n",
    "# print(report_dt)\n"
   ]
  },
  {
   "cell_type": "markdown",
   "id": "5c39e98f-042f-4eec-91e9-4053c22f9a4c",
   "metadata": {},
   "source": [
    "<h1 style=\"background-color:white;color:black;padding:10px;\">SUPPORT VECTOR MECHINE</h1>"
   ]
  },
  {
   "cell_type": "code",
   "execution_count": 12,
   "id": "6d18986e-cfa2-46f9-8cce-90e8e3cdc934",
   "metadata": {},
   "outputs": [
    {
     "name": "stdout",
     "output_type": "stream",
     "text": [
      "SVM\n",
      "Accuracy: 86.34%\n",
      "Precision: 0.87\n",
      "Recall: 0.86\n",
      "F1-Score: 0.86\n",
      "Classification Report:\n",
      "              precision    recall  f1-score   support\n",
      "\n",
      "           0       0.91      0.91      0.91      2872\n",
      "           1       0.83      0.94      0.88      3339\n",
      "           2       0.84      0.65      0.73       828\n",
      "           3       0.91      0.82      0.86      1388\n",
      "           4       0.82      0.84      0.83      1185\n",
      "           5       0.87      0.54      0.66       388\n",
      "\n",
      "    accuracy                           0.86     10000\n",
      "   macro avg       0.86      0.78      0.81     10000\n",
      "weighted avg       0.87      0.86      0.86     10000\n",
      "\n"
     ]
    }
   ],
   "source": [
    "from sklearn.metrics import accuracy_score, precision_score, recall_score, f1_score, classification_report\n",
    "from sklearn.svm import SVC\n",
    "\n",
    "# SVM\n",
    "svm_model = SVC(random_state=42)\n",
    "svm_model.fit(X_train_count, y_train)\n",
    "\n",
    "# Predict\n",
    "y_pred_svm = svm_model.predict(X_test_count)\n",
    "\n",
    "# Evaluate\n",
    "accuracy_svm = accuracy_score(y_test, y_pred_svm)\n",
    "precision_svm = precision_score(y_test, y_pred_svm, average='weighted')  # Adjust 'average' as needed\n",
    "recall_svm = recall_score(y_test, y_pred_svm, average='weighted')\n",
    "f1_svm = f1_score(y_test, y_pred_svm, average='weighted')\n",
    "report_svm = classification_report(y_test, y_pred_svm)\n",
    "\n",
    "# Print results\n",
    "print(\"SVM\")\n",
    "print(f\"Accuracy: {accuracy_svm * 100:.2f}%\")\n",
    "print(f\"Precision: {precision_svm:.2f}\")\n",
    "print(f\"Recall: {recall_svm:.2f}\")\n",
    "print(f\"F1-Score: {f1_svm:.2f}\")\n",
    "# print(\"Classification Report:\")\n",
    "# print(report_svm)\n"
   ]
  },
  {
   "cell_type": "markdown",
   "id": "9bcc34c6-5d93-4ff7-9f0f-d890d4d0d25d",
   "metadata": {},
   "source": [
    "<h1 style=\"background-color:white;color:black;padding:10px;\">K NEAREST NEIGHBOUR</h1>"
   ]
  },
  {
   "cell_type": "code",
   "execution_count": 10,
   "id": "aa017bd3-e2aa-4c92-9bf9-94a6e7b03990",
   "metadata": {},
   "outputs": [
    {
     "name": "stdout",
     "output_type": "stream",
     "text": [
      "k-NN\n",
      "Accuracy: 66.72%\n",
      "Precision: 0.70\n",
      "Recall: 0.67\n",
      "F1-Score: 0.66\n",
      "Classification Report:\n",
      "              precision    recall  f1-score   support\n",
      "\n",
      "           0       0.57      0.85      0.68      2872\n",
      "           1       0.73      0.73      0.73      3339\n",
      "           2       0.74      0.42      0.53       828\n",
      "           3       0.80      0.52      0.63      1388\n",
      "           4       0.75      0.50      0.60      1185\n",
      "           5       0.79      0.32      0.46       388\n",
      "\n",
      "    accuracy                           0.67     10000\n",
      "   macro avg       0.73      0.56      0.61     10000\n",
      "weighted avg       0.70      0.67      0.66     10000\n",
      "\n"
     ]
    }
   ],
   "source": [
    "from sklearn.metrics import accuracy_score, precision_score, recall_score, f1_score, classification_report\n",
    "from sklearn.neighbors import KNeighborsClassifier\n",
    "\n",
    "# k-NN\n",
    "knn_model = KNeighborsClassifier()\n",
    "knn_model.fit(X_train_count, y_train)\n",
    "\n",
    "# Predict\n",
    "y_pred_knn = knn_model.predict(X_test_count)\n",
    "\n",
    "# Evaluate\n",
    "accuracy_knn = accuracy_score(y_test, y_pred_knn)\n",
    "precision_knn = precision_score(y_test, y_pred_knn, average='weighted')  # Adjust 'average' as needed\n",
    "recall_knn = recall_score(y_test, y_pred_knn, average='weighted')\n",
    "f1_knn = f1_score(y_test, y_pred_knn, average='weighted')\n",
    "report_knn = classification_report(y_test, y_pred_knn)\n",
    "\n",
    "# Print results\n",
    "print(\"k-NN\")\n",
    "print(f\"Accuracy: {accuracy_knn * 100:.2f}%\")\n",
    "print(f\"Precision: {precision_knn:.2f}\")\n",
    "print(f\"Recall: {recall_knn:.2f}\")\n",
    "print(f\"F1-Score: {f1_knn:.2f}\")\n",
    "print(\"Classification Report:\")\n",
    "print(report_knn)\n"
   ]
  },
  {
   "cell_type": "markdown",
   "id": "92db79a7-ae01-4d94-884b-b8e8e8845e4b",
   "metadata": {},
   "source": [
    "<h1 style=\"background-color:white;color:black;padding:10px;\">ADA BOOST</h1>"
   ]
  },
  {
   "cell_type": "code",
   "execution_count": 8,
   "id": "6bbc334b-56d4-4d0e-a585-930f0795580f",
   "metadata": {
    "scrolled": true
   },
   "outputs": [
    {
     "name": "stderr",
     "output_type": "stream",
     "text": [
      "C:\\Users\\user\\anaconda3\\Lib\\site-packages\\sklearn\\ensemble\\_weight_boosting.py:519: FutureWarning: The SAMME.R algorithm (the default) is deprecated and will be removed in 1.6. Use the SAMME algorithm to circumvent this warning.\n",
      "  warnings.warn(\n"
     ]
    },
    {
     "name": "stdout",
     "output_type": "stream",
     "text": [
      "AdaBoost Classifier\n",
      "Accuracy: 39.48%\n",
      "Precision: 0.35\n",
      "Recall: 0.39\n",
      "F1-Score: 0.27\n",
      "Classification Report:\n",
      "              precision    recall  f1-score   support\n",
      "\n",
      "           0       0.02      0.00      0.00      2872\n",
      "           1       0.36      0.98      0.53      3339\n",
      "           2       0.88      0.48      0.62       828\n",
      "           3       0.48      0.02      0.04      1388\n",
      "           4       0.47      0.10      0.17      1185\n",
      "           5       0.82      0.29      0.43       388\n",
      "\n",
      "    accuracy                           0.39     10000\n",
      "   macro avg       0.51      0.31      0.30     10000\n",
      "weighted avg       0.35      0.39      0.27     10000\n",
      "\n"
     ]
    }
   ],
   "source": [
    "from sklearn.ensemble import AdaBoostClassifier\n",
    "from sklearn.metrics import accuracy_score, precision_score, recall_score, f1_score, classification_report\n",
    "\n",
    "# AdaBoost\n",
    "adaboost_model = AdaBoostClassifier(random_state=42, n_estimators=100)\n",
    "adaboost_model.fit(X_train_count, y_train)\n",
    "\n",
    "# Predict\n",
    "y_pred_adaboost = adaboost_model.predict(X_test_count)\n",
    "\n",
    "# Evaluate\n",
    "accuracy_adaboost = accuracy_score(y_test, y_pred_adaboost)\n",
    "precision_adaboost = precision_score(y_test, y_pred_adaboost, average='weighted')  # Adjust 'average' as needed\n",
    "recall_adaboost = recall_score(y_test, y_pred_adaboost, average='weighted')\n",
    "f1_adaboost = f1_score(y_test, y_pred_adaboost, average='weighted')\n",
    "report_adaboost = classification_report(y_test, y_pred_adaboost)\n",
    "\n",
    "# Print results\n",
    "print(\"AdaBoost Classifier\")\n",
    "print(f\"Accuracy: {accuracy_adaboost * 100:.2f}%\")\n",
    "print(f\"Precision: {precision_adaboost:.2f}\")\n",
    "print(f\"Recall: {recall_adaboost:.2f}\")\n",
    "print(f\"F1-Score: {f1_adaboost:.2f}\")\n",
    "print(\"Classification Report:\")\n",
    "print(report_adaboost)\n"
   ]
  },
  {
   "cell_type": "markdown",
   "id": "b6e65086-6761-4105-a4bb-d71927e5fdf2",
   "metadata": {},
   "source": [
    "<h1 style=\"background-color:white;color:black;padding:10px;\">CONFUTION MATRICS AND CLASSIFICATION REPORT</h1>"
   ]
  },
  {
   "cell_type": "code",
   "execution_count": 7,
   "id": "a70c6104-537c-444c-a5f7-459267b529ae",
   "metadata": {},
   "outputs": [
    {
     "name": "stdout",
     "output_type": "stream",
     "text": [
      "Confusion Matrix:\n",
      "[[85  8]\n",
      " [21 86]]\n",
      "\n",
      "Classification Report:\n",
      "              precision    recall  f1-score   support\n",
      "\n",
      "           0       0.80      0.91      0.85        93\n",
      "           1       0.91      0.80      0.86       107\n",
      "\n",
      "    accuracy                           0.85       200\n",
      "   macro avg       0.86      0.86      0.85       200\n",
      "weighted avg       0.86      0.85      0.86       200\n",
      "\n"
     ]
    },
    {
     "data": {
      "image/png": "[encoded data removed]",
      "text/plain": [
       "<Figure size 640x480 with 2 Axes>"
      ]
     },
     "metadata": {},
     "output_type": "display_data"
    }
   ],
   "source": [
    "from sklearn.metrics import confusion_matrix, classification_report, ConfusionMatrixDisplay\n",
    "from sklearn.linear_model import LogisticRegression\n",
    "from sklearn.model_selection import train_test_split\n",
    "from sklearn.datasets import make_classification\n",
    "\n",
    "# Example: Create a synthetic dataset (replace this with your dataset)\n",
    "X, y = make_classification(n_samples=1000, n_features=20, n_classes=2, random_state=42)\n",
    "X_train, X_test, y_train, y_test = train_test_split(X, y, test_size=0.2, random_state=42)\n",
    "\n",
    "# Train logistic regression model\n",
    "model = LogisticRegression()\n",
    "model.fit(X_train, y_train)\n",
    "\n",
    "# Make predictions\n",
    "y_pred = model.predict(X_test)\n",
    "\n",
    "# Generate confusion matrix\n",
    "conf_matrix = confusion_matrix(y_test, y_pred)\n",
    "print(\"Confusion Matrix:\")\n",
    "print(conf_matrix)\n",
    "\n",
    "# Display confusion matrix\n",
    "disp = ConfusionMatrixDisplay(confusion_matrix=conf_matrix, display_labels=model.classes_)\n",
    "disp.plot()\n",
    "\n",
    "# Generate classification report\n",
    "class_report = classification_report(y_test, y_pred)\n",
    "print(\"\\nClassification Report:\")\n",
    "print(class_report)\n"
   ]
  },
  {
   "cell_type": "markdown",
   "id": "baf039b6-d712-42e1-aae5-f6418d991ebd",
   "metadata": {},
   "source": [
    "<h1 style=\"background-color:white;color:black;padding:10px;\">IMPORT PICKLE</h1>"
   ]
  },
  {
   "cell_type": "code",
   "execution_count": 13,
   "id": "10927117-188b-45e4-905b-2a0272b6859d",
   "metadata": {},
   "outputs": [
    {
     "name": "stdout",
     "output_type": "stream",
     "text": [
      "Pickle files created successfully!\n"
     ]
    }
   ],
   "source": [
    "import pickle\n",
    "\n",
    "with open('count_vectorizer.pkl', 'wb') as f:\n",
    "    pickle.dump(vectorizer, f)\n",
    "\n",
    "# Save Logistic Regression model into a separate pickle file\n",
    "with open('logistic_regression.pkl', 'wb') as f:\n",
    "    pickle.dump(model, f)\n",
    "\n",
    "print(\"Pickle files created successfully!\")"
   ]
  },
  {
   "cell_type": "markdown",
   "id": "5be50e5a-a8de-4282-b8e8-8ebf106eb490",
   "metadata": {},
   "source": [
    "<h1 style=\"background-color:white;color:black;padding:10px;\">BAR CHART</h1>"
   ]
  },
  {
   "cell_type": "code",
   "execution_count": 2,
   "id": "a8517095-fd8e-479f-9904-94dcb311b089",
   "metadata": {},
   "outputs": [
    {
     "data": {
      "image/png": "[encoded data removed]",
      "text/plain": [
       "<Figure size 800x600 with 1 Axes>"
      ]
     },
     "metadata": {},
     "output_type": "display_data"
    }
   ],
   "source": [
    "import pandas as pd\n",
    "import matplotlib.pyplot as plt\n",
    "\n",
    "\n",
    "\n",
    "# Example: Count the occurrences of each label\n",
    "label_counts = data['label'].value_counts()\n",
    "\n",
    "# Create the bar chart\n",
    "plt.figure(figsize=(8, 6))\n",
    "label_counts.plot(kind='bar', color='skyblue')\n",
    "plt.title('Distribution of Labels')\n",
    "plt.xlabel('Labels')\n",
    "plt.ylabel('Count')\n",
    "plt.xticks(rotation=45)\n",
    "plt.grid(axis='y', linestyle='--', alpha=0.7)\n",
    "\n",
    "# Show the plot\n",
    "plt.tight_layout()\n",
    "plt.show()\n",
    "\n"
   ]
  },
  {
   "cell_type": "markdown",
   "id": "c70f01a2-c3cf-41e0-8f8e-6fe9ddae58ad",
   "metadata": {},
   "source": [
    "<h1 style=\"background-color:white;color:black;padding:10px;\">PIE CHART</h1>"
   ]
  },
  {
   "cell_type": "code",
   "execution_count": 5,
   "id": "27851c05-7bf5-4a84-b06a-5628af02ba3c",
   "metadata": {},
   "outputs": [
    {
     "data": {
      "image/png": "[encoded data removed]",
      "text/plain": [
       "<Figure size 800x800 with 1 Axes>"
      ]
     },
     "metadata": {},
     "output_type": "display_data"
    }
   ],
   "source": [
    "import pandas as pd\n",
    "import matplotlib.pyplot as plt\n",
    "\n",
    "\n",
    "\n",
    "# Example: Count the occurrences of each label\n",
    "label_counts = data['label'].value_counts()\n",
    "\n",
    "# Create the pie chart\n",
    "plt.figure(figsize=(8, 8))\n",
    "label_counts.plot(kind='pie', autopct='%1.1f%%', startangle=90, colors=plt.cm.Paired.colors)\n",
    "plt.title('Label Distribution')\n",
    "plt.ylabel('')  # Remove the y-axis label for a cleaner look\n",
    "\n",
    "# Show the plot\n",
    "plt.tight_layout()\n",
    "plt.show()\n"
   ]
  },
  {
   "cell_type": "markdown",
   "id": "b89242f4-edaf-4a92-9e19-a0195cabf425",
   "metadata": {},
   "source": [
    "<h1 style=\"background-color:white;color:black;padding:10px;\">SCATTER PLOT</h1>"
   ]
  },
  {
   "cell_type": "code",
   "execution_count": 13,
   "id": "f8512fb0-0941-45ad-a5ed-1312fffa9af9",
   "metadata": {},
   "outputs": [
    {
     "data": {
      "image/png": "[encoded data removed]",
      "text/plain": [
       "<Figure size 1000x600 with 1 Axes>"
      ]
     },
     "metadata": {},
     "output_type": "display_data"
    }
   ],
   "source": [
    "import pandas as pd\n",
    "import matplotlib.pyplot as plt\n",
    "\n",
    "\n",
    "# Calculate text length for each entry\n",
    "data['text_length'] = data['text'].apply(len)\n",
    "\n",
    "# Scatter plot: Text Length vs. Label\n",
    "plt.figure(figsize=(10, 6))    \n",
    "plt.scatter(data['text_length'], data['label'], alpha=0.5, c='blue', edgecolor='k')\n",
    "plt.title('Scatter Plot: Text Length vs. Label')\n",
    "plt.xlabel('Text Length')\n",
    "plt.ylabel('Label')\n",
    "plt.grid(True)\n",
    "plt.show()\n"
   ]
  },
  {
   "cell_type": "markdown",
   "id": "ac7cbd93-5113-4ec8-b3d4-1d8c768a038e",
   "metadata": {},
   "source": [
    "<h1 style=\"background-color:white;color:black;padding:10px;\">DataFrame properties and methods</h1>"
   ]
  },
  {
   "cell_type": "code",
   "execution_count": 5,
   "id": "f7ad7609-5683-43df-ba3e-6e64d661661d",
   "metadata": {},
   "outputs": [
    {
     "name": "stdout",
     "output_type": "stream",
     "text": [
      "Dataset ndim: 2\n"
     ]
    }
   ],
   "source": [
    "print(\"Dataset ndim:\", data.ndim) "
   ]
  },
  {
   "cell_type": "code",
   "execution_count": 7,
   "id": "4dfed281-8267-4e0b-b4eb-4aea91c0c143",
   "metadata": {},
   "outputs": [
    {
     "name": "stdout",
     "output_type": "stream",
     "text": [
      "\n",
      "Dataset info:\n",
      "<class 'pandas.core.frame.DataFrame'>\n",
      "RangeIndex: 49999 entries, 0 to 49998\n",
      "Data columns (total 2 columns):\n",
      " #   Column  Non-Null Count  Dtype \n",
      "---  ------  --------------  ----- \n",
      " 0   text    49999 non-null  object\n",
      " 1   label   49999 non-null  int64 \n",
      "dtypes: int64(1), object(1)\n",
      "memory usage: 781.4+ KB\n",
      "None\n"
     ]
    }
   ],
   "source": [
    "print(\"\\nDataset info:\")\n",
    "print(data.info())   "
   ]
  },
  {
   "cell_type": "code",
   "execution_count": 9,
   "id": "fa48a43e-8f09-48ac-8215-d4695bf8596c",
   "metadata": {},
   "outputs": [
    {
     "name": "stdout",
     "output_type": "stream",
     "text": [
      "\n",
      "Dataset size: 99998\n"
     ]
    }
   ],
   "source": [
    "print(\"\\nDataset size:\", data.size)"
   ]
  },
  {
   "cell_type": "code",
   "execution_count": 11,
   "id": "9ba51ed8-92a5-4dcc-9a5e-483b3a4669d4",
   "metadata": {},
   "outputs": [
    {
     "name": "stdout",
     "output_type": "stream",
     "text": [
      "Dataset shape: (49999, 2)\n"
     ]
    }
   ],
   "source": [
    "print(\"Dataset shape:\", data.shape) "
   ]
  },
  {
   "cell_type": "code",
   "execution_count": null,
   "id": "01d5b2da-8380-4a2e-811b-7da5e8ac66f8",
   "metadata": {},
   "outputs": [],
   "source": []
  }
 ],
 "metadata": {
  "kernelspec": {
   "display_name": "Python 3 (ipykernel)",
   "language": "python",
   "name": "python3"
  },
  "language_info": {
   "codemirror_mode": {
    "name": "ipython",
    "version": 3
   },
   "file_extension": ".py",
   "mimetype": "text/x-python",
   "name": "python",
   "nbconvert_exporter": "python",
   "pygments_lexer": "ipython3",
   "version": "3.12.4"
  }
 },
 "nbformat": 4,
 "nbformat_minor": 5
}
